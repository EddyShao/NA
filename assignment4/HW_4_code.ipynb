{
 "cells": [
  {
   "cell_type": "code",
   "execution_count": 1,
   "metadata": {},
   "outputs": [],
   "source": [
    "import numpy as np\n",
    "import matplotlib.pyplot as plt\n",
    "from scipy.linalg import hilbert"
   ]
  },
  {
   "cell_type": "markdown",
   "metadata": {},
   "source": [
    "# Question 1"
   ]
  },
  {
   "cell_type": "markdown",
   "metadata": {},
   "source": [
    "## try $eps$ in numpy"
   ]
  },
  {
   "cell_type": "code",
   "execution_count": 2,
   "metadata": {},
   "outputs": [
    {
     "data": {
      "text/plain": [
       "2.220446049250313e-16"
      ]
     },
     "execution_count": 2,
     "metadata": {},
     "output_type": "execute_result"
    }
   ],
   "source": [
    "np.spacing(1)"
   ]
  },
  {
   "cell_type": "markdown",
   "metadata": {},
   "source": [
    "## (a)"
   ]
  },
  {
   "cell_type": "code",
   "execution_count": 3,
   "metadata": {},
   "outputs": [
    {
     "name": "stdout",
     "output_type": "stream",
     "text": [
      "a =  1e-16\n",
      "b =  0.0\n"
     ]
    }
   ],
   "source": [
    "a = (1 - 1) + 1e-16\n",
    "b = 1 - (1 + 1e-16)\n",
    "print(\"a = \", a)\n",
    "print(\"b = \", b)\n"
   ]
  },
  {
   "cell_type": "markdown",
   "metadata": {},
   "source": [
    "### What is happening?\n",
    "* In the first expression, we do the addition of two relateively close amount ((1-1) and 1e-16). The error is then small.\n",
    "* However, in the second expression, we are actually doing the substraction between 2 very close amount(1 and 1 + 1e-16). It is very dangerous, as valid digits may be largely canceled out."
   ]
  },
  {
   "cell_type": "markdown",
   "metadata": {},
   "source": [
    "## (b)"
   ]
  },
  {
   "cell_type": "code",
   "execution_count": 4,
   "metadata": {},
   "outputs": [
    {
     "name": "stdout",
     "output_type": "stream",
     "text": [
      "The error term when n = 5 is 7.121339907719716e-12\n",
      "The condition number (under l_2 norm) is 476607.25024259434\n",
      "\n",
      "The error term when n = 10 is 7.998270949302708e-05\n",
      "The condition number (under l_2 norm) is 16024416992541.715\n",
      "\n",
      "The error term when n = 20 is 7.047686992816417\n",
      "The condition number (under l_2 norm) is 1.3553657908688225e+18\n",
      "\n"
     ]
    }
   ],
   "source": [
    "error = []\n",
    "condition_number = []\n",
    "ns = [5, 10, 20]\n",
    "\n",
    "for n in ns:\n",
    "    H_n = hilbert(n)\n",
    "    H_n_inv = np.linalg.inv(H_n)\n",
    "    e_n = np.ones(n).reshape(-1, 1)\n",
    "\n",
    "    error.append(np.linalg.norm(H_n @ (H_n_inv @ e_n) - e_n, ord=2))\n",
    "    condition_number.append(np.linalg.cond(H_n, p=2))\n",
    "\n",
    "\n",
    "\n",
    "for i in range(len(ns)):\n",
    "    print(\"The error term when n = {} is {}\".format(ns[i], error[i]))\n",
    "    print(\"The condition number (under l_2 norm) is {}\".format(condition_number[i]))\n",
    "    print()\n"
   ]
  },
  {
   "cell_type": "markdown",
   "metadata": {},
   "source": [
    "## (c)"
   ]
  },
  {
   "cell_type": "code",
   "execution_count": 5,
   "metadata": {},
   "outputs": [],
   "source": [
    "f = lambda x: np.exp(x)/(np.cos(x)**3 + np.sin(x)**3)\n",
    "\n",
    "# the following parameter stores the analytical value \n",
    "# of f'(x_0)\n",
    "# denoted f_p_gt (ground truth)\n",
    "f_p_gt = (2**(1/2)) * np.exp(np.pi/4)\n",
    "x_0 = np.pi / 4"
   ]
  },
  {
   "cell_type": "code",
   "execution_count": 6,
   "metadata": {},
   "outputs": [],
   "source": [
    "# the following function\n",
    "def f_p_num(x=x_0, h=1e-1):\n",
    "    return (f(x + h) - f(x)) / h"
   ]
  },
  {
   "cell_type": "code",
   "execution_count": 7,
   "metadata": {},
   "outputs": [
    {
     "data": {
      "image/png": "[encoded data removed]",
      "text/plain": [
       "<Figure size 432x288 with 1 Axes>"
      ]
     },
     "metadata": {
      "needs_background": "light"
     },
     "output_type": "display_data"
    }
   ],
   "source": [
    "error = []\n",
    "ks = list(range(1, 17))\n",
    "\n",
    "for k in ks:\n",
    "    f_p = f_p_num(h=10**(-k))\n",
    "    error.append(abs(f_p - f_p_gt))\n",
    "\n",
    "log_error = np.log(error)\n",
    "\n",
    "plt.plot(ks, log_error)\n",
    "plt.xlabel(r\"$-\\log(h)$\")\n",
    "plt.ylabel(r\"$\\log(\\|f'(x_0) - f'_{num}(x_0)\\|)$\")\n",
    "plt.title(\"log-log plot of error w.r.t h\")\n",
    "plt.show()"
   ]
  },
  {
   "cell_type": "markdown",
   "metadata": {},
   "source": [
    "### Observations\n",
    "* when $h$ beacomes smaller, the error become smaller at first and then become larger.\n",
    "* The best approximation: $h = 1 \\times 10^{-8}$"
   ]
  },
  {
   "cell_type": "markdown",
   "metadata": {},
   "source": [
    "# Question 4"
   ]
  },
  {
   "cell_type": "code",
   "execution_count": 8,
   "metadata": {},
   "outputs": [],
   "source": [
    "f = lambda x,y: np.array([x**2 + 4*y**2 - 4, 2*y - np.sqrt(3)*x**2])\n",
    "\n",
    "J_f = lambda x,y: np.array([\n",
    "    [2*x, 8*y],\n",
    "    [-2*np.sqrt(3)*x, 2]\n",
    "])\n",
    "\n",
    "J_f_inv = lambda x,y: np.linalg.inv(J_f(x, y))\n",
    "\n",
    "# here we use x to denote [x, y]^{T}\n",
    "\n"
   ]
  },
  {
   "cell_type": "code",
   "execution_count": 9,
   "metadata": {},
   "outputs": [
    {
     "name": "stdout",
     "output_type": "stream",
     "text": [
      "Starting from: x = 2, y = 3\n",
      "\n",
      "The #0 iteration: x = 2.0000, y = 3.0000\n",
      "The #1 iteration: x = 1.4590, y = 1.5902\n",
      "The #2 iteration: x = 1.1320, y = 1.0172\n",
      "The #3 iteration: x = 1.0127, y = 0.8759\n",
      "The #4 iteration: x = 1.0001, y = 0.8661\n",
      "The #5 iteration: x = 1.0000, y = 0.8660\n"
     ]
    }
   ],
   "source": [
    "x_0 = np.array([2, 3])\n",
    "iter = 5\n",
    "history_1 = np.empty((iter+1, 2))\n",
    "x = x_0 # set the initial value\n",
    "for i in range(iter + 1):\n",
    "    history_1[i] = x\n",
    "    # do newton's iteration once\n",
    "    # Here we didn't convert it to column vector\n",
    "    # but it does the job, though some abuse of notation\n",
    "    x = x - J_f_inv(x[0], x[1]) @ f(x[0], x[1])\n",
    "\n",
    "print(f\"Starting from: x = {x_0[0]}, y = {x_0[1]}\\n\")\n",
    "    \n",
    "for i in range(iter+1):\n",
    "    print(\"The #{} iteration: x = {:.4f}, y = {:.4f}\".format(i, history_1[i][0], history_1[i][1]))"
   ]
  },
  {
   "cell_type": "code",
   "execution_count": 10,
   "metadata": {},
   "outputs": [
    {
     "name": "stdout",
     "output_type": "stream",
     "text": [
      "Starting from: x = -1.5, y = 2.0\n",
      "\n",
      "The #0 iteration: x = -1.5000, y = 2.0000\n",
      "The #1 iteration: x = -1.1987, y = 1.1659\n",
      "The #2 iteration: x = -1.0330, y = 0.9003\n",
      "The #3 iteration: x = -1.0008, y = 0.8666\n",
      "The #4 iteration: x = -1.0000, y = 0.8660\n",
      "The #5 iteration: x = -1.0000, y = 0.8660\n"
     ]
    }
   ],
   "source": [
    "x_0 = np.array([-1.5, 2])\n",
    "iter = 5\n",
    "history_2 = np.empty((iter+1, 2))\n",
    "x = x_0 # set the initial value\n",
    "for i in range(iter + 1):\n",
    "    history_2[i] = x\n",
    "    # do newton's iteration once\n",
    "    # Here we didn't convert it to column vector\n",
    "    # but it does the job, though some abuse of notation\n",
    "    x = x - J_f_inv(x[0], x[1]) @ f(x[0], x[1])\n",
    "\n",
    "print(f\"Starting from: x = {x_0[0]}, y = {x_0[1]}\\n\")\n",
    "    \n",
    "for i in range(iter+1):\n",
    "    print(\"The #{} iteration: x = {:.4f}, y = {:.4f}\".format(i, history_2[i][0], history_2[i][1]))"
   ]
  },
  {
   "cell_type": "code",
   "execution_count": 11,
   "metadata": {},
   "outputs": [
    {
     "data": {
      "image/png": "[encoded data removed]",
      "text/plain": [
       "<Figure size 432x288 with 1 Axes>"
      ]
     },
     "metadata": {
      "needs_background": "light"
     },
     "output_type": "display_data"
    }
   ],
   "source": [
    "# visualization\n",
    "\n",
    "# for the ellipse we use trig-parametrization\n",
    "t_space = np.linspace(0, 2*np.pi, 10000)\n",
    "plt.plot([2*np.cos(t) for t in t_space], [np.sin(t) for t in t_space], label=r\"$S_1$\")\n",
    "\n",
    "x_space = np.linspace(-1.5, 1.5, 10000)\n",
    "plt.plot(x_space, .5*np.sqrt(3)*x_space**2, label=r\"$S_2$\")\n",
    "\n",
    "# plt.scatter([1, -1], [.5*np.sqrt(3)]*2, label=\"Analytic sols\")\n",
    "\n",
    "plt.scatter(history_1[:, 0], history_1[:, 1], s=10.5, c=\"r\", label=\"Newton's Iteration from (2, 3)\")\n",
    "\n",
    "# for i in range(history_1.shape[0]):\n",
    "#     txt = (r\"($x_{}, y_{}$)\").format(i, i)\n",
    "#     plt.annotate(txt, (history_1[i][0], history_1[i][1]))\n",
    "\n",
    "plt.scatter(history_2[:, 0], history_2[:, 1], s=10.5, c=\"g\", label=\"Newton's Iteration from (-1.5, 2)\")\n",
    "\n",
    "# for i in range(history_2.shape[0]):\n",
    "#     txt = (r\"($x_{}, y_{}$)\").format(i, i)\n",
    "#     plt.annotate(txt, (history_2[i][0], history_2[i][1]))\n",
    "\n",
    "plt.title(\"Newton's iteration\")\n",
    "\n",
    "plt.legend()\n",
    "\n",
    "plt.show()\n"
   ]
  }
 ],
 "metadata": {
  "interpreter": {
   "hash": "830733ea9d918b531834fa8b8da0fcefcd54d93d922d0ee5d3d3c2269aa3eec6"
  },
  "kernelspec": {
   "display_name": "Python 3",
   "language": "python",
   "name": "python3"
  },
  "language_info": {
   "codemirror_mode": {
    "name": "ipython",
    "version": 3
   },
   "file_extension": ".py",
   "mimetype": "text/x-python",
   "name": "python",
   "nbconvert_exporter": "python",
   "pygments_lexer": "ipython3",
   "version": "3.8.8"
  }
 },
 "nbformat": 4,
 "nbformat_minor": 2
}

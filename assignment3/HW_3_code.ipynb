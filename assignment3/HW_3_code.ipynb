{
 "cells": [
  {
   "cell_type": "code",
   "execution_count": 1,
   "metadata": {},
   "outputs": [],
   "source": [
    "import numpy as np\n",
    "import time\n",
    "import matplotlib.pyplot as plt\n",
    "from scipy.special import digamma\n",
    "from tqdm import tqdm"
   ]
  },
  {
   "cell_type": "markdown",
   "metadata": {},
   "source": [
    "## Question 1"
   ]
  },
  {
   "cell_type": "code",
   "execution_count": 2,
   "metadata": {},
   "outputs": [],
   "source": [
    "def norm_1(A):\n",
    "    \"\"\"\n",
    "    Input: 2D numpy array\n",
    "    Output: float\n",
    "    \"\"\"\n",
    "    if A.shape[0] != A.shape[1]:\n",
    "        raise ValueError(\"Input should be square.\")\n",
    "    \n",
    "    # Take the absolute value of each entry\n",
    "    # Get columns sum\n",
    "    # n^2 complexity\n",
    "    col_sum = np.sum(abs(A), axis=0) \n",
    "\n",
    "\n",
    "    # return the max of the col sum\n",
    "    # n complexity\n",
    "    return max(col_sum)\n",
    "\n",
    "def norm_infinity(A):\n",
    "    \"\"\"\n",
    "    Input: 2D numpy array\n",
    "    Output: float\n",
    "    \"\"\"\n",
    "    if A.shape[0] != A.shape[1]:\n",
    "        raise ValueError(\"Input should be square.\")\n",
    "    \n",
    "    # Take the absolute value of each entry\n",
    "    # Get columns sum\n",
    "    # n^2 complexity\n",
    "    row_sum = np.sum(abs(A), axis=1) \n",
    "\n",
    "\n",
    "    # return the max of the col sum\n",
    "    # n complexity\n",
    "    return max(row_sum)\n"
   ]
  },
  {
   "cell_type": "code",
   "execution_count": 3,
   "metadata": {},
   "outputs": [],
   "source": [
    "sizes = [int(100*(2**i)) for i in range(7)]\n",
    "duration_1 = {}\n",
    "duration_inf = {}\n",
    "for size in sizes:\n",
    "    A = np.random.random((size, size))\n",
    "    start = time.time()\n",
    "    norm_1(A)\n",
    "    end = time.time()\n",
    "    duration_1[size] = end - start\n",
    "\n",
    "    start = time.time()\n",
    "    norm_infinity(A)\n",
    "    end = time.time()\n",
    "    duration_inf[size] = end - start\n",
    "\n"
   ]
  },
  {
   "cell_type": "code",
   "execution_count": 4,
   "metadata": {},
   "outputs": [
    {
     "name": "stdout",
     "output_type": "stream",
     "text": [
      "\n",
      "For 1 norm\n",
      "\n",
      "The duration for  100 x  100 matrix is 0.000358\n",
      "The duration for  200 x  200 matrix is 0.000275\n",
      "The duration for  400 x  400 matrix is 0.000971\n",
      "The duration for  800 x  800 matrix is 0.003606\n",
      "The duration for 1600 x 1600 matrix is 0.016091\n",
      "The duration for 3200 x 3200 matrix is 0.084503\n",
      "The duration for 6400 x 6400 matrix is 0.570026\n",
      "\n",
      "For infinity-norm\n",
      "\n",
      "The duration for  100 x  100 matrix is 0.000173\n",
      "The duration for  200 x  200 matrix is 0.000176\n",
      "The duration for  400 x  400 matrix is 0.000289\n",
      "The duration for  800 x  800 matrix is 0.001526\n",
      "The duration for 1600 x 1600 matrix is 0.006191\n",
      "The duration for 3200 x 3200 matrix is 0.027819\n",
      "The duration for 6400 x 6400 matrix is 0.240773\n"
     ]
    }
   ],
   "source": [
    "print(\"\\nFor 1 norm\\n\")\n",
    "for i in range(7):\n",
    "    print(f\"The duration for {100*(2**i):4d} x {100*(2**i):4d} matrix is {duration_1[100*(2**i)]:.6f}\")\n",
    "print(\"\\nFor infinity-norm\\n\")\n",
    "for i in range(7):\n",
    "    print(f\"The duration for {100*(2**i):4d} x {100*(2**i):4d} matrix is {duration_inf[100*(2**i)]:.6f}\")\n"
   ]
  },
  {
   "cell_type": "code",
   "execution_count": 5,
   "metadata": {},
   "outputs": [
    {
     "data": {
      "image/png": "[encoded data removed]",
      "text/plain": [
       "<Figure size 432x288 with 1 Axes>"
      ]
     },
     "metadata": {
      "needs_background": "light"
     },
     "output_type": "display_data"
    }
   ],
   "source": [
    "# Visualization\n",
    "plt.plot(sizes, list(duration_1.values()), label = \"1-norm\")\n",
    "plt.plot(sizes, list(duration_inf.values()), label = r\"$\\infty$-norm\")\n",
    "plt.xlabel(\"Matrix Size\")\n",
    "plt.ylabel(\"Duration\")\n",
    "plt.title(\"Duration - Matrix Size\")\n",
    "plt.legend()\n",
    "plt.show()"
   ]
  },
  {
   "cell_type": "markdown",
   "metadata": {},
   "source": [
    "From the result, we could say the flop will be increased roughly by factor 4 when the matrix size is doubeled, which is consistent with what we found analytically."
   ]
  },
  {
   "cell_type": "markdown",
   "metadata": {},
   "source": [
    "## Question 4"
   ]
  },
  {
   "cell_type": "code",
   "execution_count": 6,
   "metadata": {},
   "outputs": [],
   "source": [
    "X = np.array([0.0, 0.5, 1.0, 1.5, 2.0, 2.0, 2.5])\n",
    "Y = np.array([0.0, 0.20, 0.27, 0.30, 0.32, 0.35, 0.27])\n",
    "X_hat = np.ones((4, len(X)))\n",
    "X_hat[0] = np.exp(X)\n",
    "X_hat[1] = X**2\n",
    "X_hat[2] = X\n",
    "X_hat = X_hat.T"
   ]
  },
  {
   "cell_type": "markdown",
   "metadata": {},
   "source": [
    "Let $\\theta := [a,b,c,d]^{T}$.\n",
    "The normal equation turns out to be\n",
    "$$(\\hat{X}^{T}\\hat{X})\\theta = \\hat{X}^{T}Y$$"
   ]
  },
  {
   "cell_type": "code",
   "execution_count": 7,
   "metadata": {},
   "outputs": [],
   "source": [
    "# Least Squaee estimation\n",
    "# theta = np.linalg.inv(X_hat.T @ X_hat)@X_hat.T@Y\n",
    "theta = np.linalg.solve(X_hat.T @ X_hat, X_hat.T@Y)"
   ]
  },
  {
   "cell_type": "code",
   "execution_count": 8,
   "metadata": {},
   "outputs": [
    {
     "data": {
      "image/png": "[encoded data removed]",
      "text/plain": [
       "<Figure size 432x288 with 1 Axes>"
      ]
     },
     "metadata": {
      "needs_background": "light"
     },
     "output_type": "display_data"
    }
   ],
   "source": [
    "f = lambda z: theta[0]*np.exp(z) + theta[1]*(z**2) + theta[2]*z + theta[3]\n",
    "x_space = np.linspace(-1, 3, 1000)\n",
    "plt.plot(x_space, f(x_space), label = r\"$f(x) = ae^x + b x^2 + cx + d$\")\n",
    "plt.scatter(X, Y, c=\"r\", label=r\"$(X, Y)$\")\n",
    "plt.title(\"Q4: Lesat Square Estimation\")\n",
    "plt.legend()\n",
    "plt.show()"
   ]
  },
  {
   "cell_type": "markdown",
   "metadata": {},
   "source": [
    "## Question 5"
   ]
  },
  {
   "cell_type": "markdown",
   "metadata": {},
   "source": [
    "### Clarification\n",
    "Since the runtime for $N = 2^{25}$ and more is huge, with the approval of the professor, we only do the part from $2^{1}$ to $2^{25}$\n",
    "\n",
    "For $N\\leq 25$ it only takes "
   ]
  },
  {
   "cell_type": "code",
   "execution_count": 9,
   "metadata": {},
   "outputs": [],
   "source": [
    "def H(N):\n",
    "    result = np.single(0)\n",
    "    for i in range(1, N+1):\n",
    "        result += np.single(1)/np.single(i)\n",
    "    return result\n",
    "\n",
    "\n",
    "def H_ex(N):\n",
    "    return digamma(N+1) - digamma(1)\n",
    "\n",
    "\n",
    "# def relative_err(h, h_ex):\n",
    "#     return abs(h - h_ex) / abs(h_ex)"
   ]
  },
  {
   "cell_type": "code",
   "execution_count": 10,
   "metadata": {},
   "outputs": [
    {
     "name": "stderr",
     "output_type": "stream",
     "text": [
      "100%|██████████| 25/25 [00:00<00:00, 47339.77it/s]\n",
      "100%|██████████| 25/25 [01:04<00:00,  2.59s/it] \n"
     ]
    }
   ],
   "source": [
    "h_ex_20 = np.zeros(25, dtype=np.double)\n",
    "\n",
    "for i in tqdm(range(1, 26)):\n",
    "    h_ex_20[i-1] = H_ex(2**i)\n",
    "\n",
    "h_20 = np.zeros(25, dtype=np.single)\n",
    "\n",
    "for i in tqdm(range(1, 26)):\n",
    "    h_20[i-1] = H(2**i)\n",
    "\n",
    "err_1 = abs(h_20 - h_ex_20) / abs(h_ex_20)"
   ]
  },
  {
   "cell_type": "code",
   "execution_count": 11,
   "metadata": {},
   "outputs": [
    {
     "name": "stderr",
     "output_type": "stream",
     "text": [
      "<ipython-input-11-b18cacf9f3a0>:2: RuntimeWarning: divide by zero encountered in log\n",
      "  plt.plot(x_space, np.log(err_1))\n"
     ]
    },
    {
     "data": {
      "image/png": "[encoded data removed]",
      "text/plain": [
       "<Figure size 432x288 with 1 Axes>"
      ]
     },
     "metadata": {
      "needs_background": "light"
     },
     "output_type": "display_data"
    }
   ],
   "source": [
    "x_space = list(range(1, 26))\n",
    "plt.plot(x_space, np.log(err_1))\n",
    "plt.title(\"log-log plot of the error(Non reverse)\")\n",
    "plt.show()"
   ]
  },
  {
   "cell_type": "markdown",
   "metadata": {},
   "source": [
    "Here we implememt the reversed order addition"
   ]
  },
  {
   "cell_type": "code",
   "execution_count": 12,
   "metadata": {},
   "outputs": [],
   "source": [
    "def H_reverse(N):\n",
    "    result = np.single(0)\n",
    "    for i in range(N, 0, -1):\n",
    "        result = np.single(1)/np.single(i) + result\n",
    "    return result"
   ]
  },
  {
   "cell_type": "code",
   "execution_count": 13,
   "metadata": {},
   "outputs": [
    {
     "name": "stderr",
     "output_type": "stream",
     "text": [
      "100%|██████████| 25/25 [01:03<00:00,  2.56s/it] \n"
     ]
    }
   ],
   "source": [
    "h_20_reverse = np.zeros(25, dtype=np.single)\n",
    "\n",
    "for i in tqdm(range(1, 26)):\n",
    "    h_20_reverse[i-1] = H_reverse(2**i)\n",
    "\n",
    "err_2 = abs(h_20_reverse - h_ex_20) / abs(h_ex_20)\n"
   ]
  },
  {
   "cell_type": "markdown",
   "metadata": {},
   "source": [
    "### Visualization "
   ]
  },
  {
   "cell_type": "code",
   "execution_count": 15,
   "metadata": {},
   "outputs": [
    {
     "name": "stderr",
     "output_type": "stream",
     "text": [
      "<ipython-input-15-be5f1d5a1fec>:2: RuntimeWarning: divide by zero encountered in log\n",
      "  plt.plot(x_space, np.log(err_1), label=\"Non-Reverse\")\n",
      "<ipython-input-15-be5f1d5a1fec>:3: RuntimeWarning: divide by zero encountered in log\n",
      "  plt.plot(x_space, np.log(err_2), label=\"Reverse\")\n"
     ]
    },
    {
     "data": {
      "image/png": "[encoded data removed]",
      "text/plain": [
       "<Figure size 432x288 with 1 Axes>"
      ]
     },
     "metadata": {
      "needs_background": "light"
     },
     "output_type": "display_data"
    }
   ],
   "source": [
    "x_space = list(range(1, 26))\n",
    "plt.plot(x_space, np.log(err_1), label=\"Non-Reverse\")\n",
    "plt.plot(x_space, np.log(err_2), label=\"Reverse\")\n",
    "plt.xlabel(\"log(N)\")\n",
    "plt.ylabel(\"log(err)\")\n",
    "plt.title(\"Log-Log plot \")\n",
    "plt.legend()\n",
    "plt.show()"
   ]
  },
  {
   "cell_type": "markdown",
   "metadata": {},
   "source": [
    "Here we can see the error with reversed order addition is much smaller."
   ]
  }
 ],
 "metadata": {
  "interpreter": {
   "hash": "830733ea9d918b531834fa8b8da0fcefcd54d93d922d0ee5d3d3c2269aa3eec6"
  },
  "kernelspec": {
   "display_name": "Python 3.8.8 ('py38')",
   "language": "python",
   "name": "python3"
  },
  "language_info": {
   "codemirror_mode": {
    "name": "ipython",
    "version": 3
   },
   "file_extension": ".py",
   "mimetype": "text/x-python",
   "name": "python",
   "nbconvert_exporter": "python",
   "pygments_lexer": "ipython3",
   "version": "3.8.8"
  },
  "orig_nbformat": 4
 },
 "nbformat": 4,
 "nbformat_minor": 2
}
